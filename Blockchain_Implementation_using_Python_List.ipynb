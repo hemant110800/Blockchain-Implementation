{
  "nbformat": 4,
  "nbformat_minor": 0,
  "metadata": {
    "colab": {
      "name": "Blockchain Implementation using Python List ",
      "provenance": [],
      "authorship_tag": "ABX9TyO7L0Bps+v+Y29OI4HzFYHn",
      "include_colab_link": true
    },
    "kernelspec": {
      "name": "python3",
      "display_name": "Python 3"
    }
  },
  "cells": [
    {
      "cell_type": "markdown",
      "metadata": {
        "id": "view-in-github",
        "colab_type": "text"
      },
      "source": [
        "<a href=\"https://colab.research.google.com/github/hemant110800/Blockchain-Implementation/blob/master/Blockchain_Implementation_using_Python_List.ipynb\" target=\"_parent\"><img src=\"https://colab.research.google.com/assets/colab-badge.svg\" alt=\"Open In Colab\"/></a>"
      ]
    },
    {
      "cell_type": "code",
      "metadata": {
        "id": "jr08rNxnh9Yb",
        "colab_type": "code",
        "colab": {
          "base_uri": "https://localhost:8080/",
          "height": 68
        },
        "outputId": "30e15621-e0a5-4092-b6b0-1b4e15f0e91b"
      },
      "source": [
        "blockchain = [[4], [[4], 5], [[[4], 5], 6]]\n",
        "for block in blockchain:\n",
        "    print(block)"
      ],
      "execution_count": 1,
      "outputs": [
        {
          "output_type": "stream",
          "text": [
            "[4]\n",
            "[[4], 5]\n",
            "[[[4], 5], 6]\n"
          ],
          "name": "stdout"
        }
      ]
    },
    {
      "cell_type": "markdown",
      "metadata": {
        "id": "Ho0MchrYky7I",
        "colab_type": "text"
      },
      "source": [
        "In each block the connectivity with previous block is shown"
      ]
    },
    {
      "cell_type": "code",
      "metadata": {
        "id": "ZsN91KAHji8D",
        "colab_type": "code",
        "colab": {
          "base_uri": "https://localhost:8080/",
          "height": 34
        },
        "outputId": "5b34df8d-24e1-4221-e95e-fb1db458b640"
      },
      "source": [
        "blockchain = []\n",
        "blockchain.append([6])\n",
        "blockchain.append([blockchain[len(blockchain) - 1], 7])\n",
        "blockchain.append([blockchain[len(blockchain) - 1], 4.8]) # blockchain[-1] will alse do the work\n",
        "blockchain"
      ],
      "execution_count": 2,
      "outputs": [
        {
          "output_type": "execute_result",
          "data": {
            "text/plain": [
              "[[6], [[6], 7], [[[6], 7], 4.8]]"
            ]
          },
          "metadata": {
            "tags": []
          },
          "execution_count": 2
        }
      ]
    },
    {
      "cell_type": "code",
      "metadata": {
        "id": "rX0h7r8IkPal",
        "colab_type": "code",
        "colab": {}
      },
      "source": [
        "def add_block(value):\n",
        "    blockchain.append([blockchain[-1], value])"
      ],
      "execution_count": 0,
      "outputs": []
    },
    {
      "cell_type": "code",
      "metadata": {
        "id": "wIiMtXu7lGRz",
        "colab_type": "code",
        "colab": {
          "base_uri": "https://localhost:8080/",
          "height": 34
        },
        "outputId": "022506a9-60ed-468c-d12e-d8efc4e38392"
      },
      "source": [
        "add_block(13)\n",
        "blockchain"
      ],
      "execution_count": 4,
      "outputs": [
        {
          "output_type": "execute_result",
          "data": {
            "text/plain": [
              "[[6], [[6], 7], [[[6], 7], 4.8], [[[[6], 7], 4.8], 13]]"
            ]
          },
          "metadata": {
            "tags": []
          },
          "execution_count": 4
        }
      ]
    },
    {
      "cell_type": "code",
      "metadata": {
        "id": "eeWTdRyIlpjo",
        "colab_type": "code",
        "colab": {
          "base_uri": "https://localhost:8080/",
          "height": 102
        },
        "outputId": "9110cb88-3893-4d9f-b2d5-58e914421e6b"
      },
      "source": [
        "add_block(10)\n",
        "blockchain"
      ],
      "execution_count": 5,
      "outputs": [
        {
          "output_type": "execute_result",
          "data": {
            "text/plain": [
              "[[6],\n",
              " [[6], 7],\n",
              " [[[6], 7], 4.8],\n",
              " [[[[6], 7], 4.8], 13],\n",
              " [[[[[6], 7], 4.8], 13], 10]]"
            ]
          },
          "metadata": {
            "tags": []
          },
          "execution_count": 5
        }
      ]
    },
    {
      "cell_type": "code",
      "metadata": {
        "id": "e41Fyp7UnWvB",
        "colab_type": "code",
        "colab": {}
      },
      "source": [
        "# Blockchain without a genesis block\n",
        "blockchain = []\n",
        "def add_block(trax):\n",
        "    if len(blockchain) == 0:\n",
        "        blockchain.append([trax])\n",
        "    else:\n",
        "        blockchain.append([blockchain[-1], trax])"
      ],
      "execution_count": 0,
      "outputs": []
    },
    {
      "cell_type": "code",
      "metadata": {
        "id": "J-jY9113nZ2T",
        "colab_type": "code",
        "colab": {
          "base_uri": "https://localhost:8080/",
          "height": 34
        },
        "outputId": "c13805b7-55f3-4f34-e917-a233b30684eb"
      },
      "source": [
        "add_block(6)\n",
        "add_block(23)\n",
        "blockchain"
      ],
      "execution_count": 7,
      "outputs": [
        {
          "output_type": "execute_result",
          "data": {
            "text/plain": [
              "[[6], [[6], 23]]"
            ]
          },
          "metadata": {
            "tags": []
          },
          "execution_count": 7
        }
      ]
    },
    {
      "cell_type": "code",
      "metadata": {
        "id": "b30_LSskov4f",
        "colab_type": "code",
        "colab": {}
      },
      "source": [
        "def get_last_block():\n",
        "    if len(blockchain) == 0:\n",
        "        print('Empty List')\n",
        "    else:\n",
        "        return blockchain[-1]\n",
        "\n",
        "blockchain = []\n",
        "def add_block(trax):\n",
        "    if len(blockchain) == 0:\n",
        "        blockchain.append([trax])\n",
        "    else:\n",
        "        blockchain.append([get_last_block(), trax])"
      ],
      "execution_count": 0,
      "outputs": []
    },
    {
      "cell_type": "code",
      "metadata": {
        "id": "yknM-Ovgox_i",
        "colab_type": "code",
        "colab": {
          "base_uri": "https://localhost:8080/",
          "height": 34
        },
        "outputId": "1e48f5fe-3ab3-46d9-ed02-c1513ab96a1b"
      },
      "source": [
        "add_block(6)\n",
        "add_block(7)\n",
        "blockchain"
      ],
      "execution_count": 9,
      "outputs": [
        {
          "output_type": "execute_result",
          "data": {
            "text/plain": [
              "[[6], [[6], 7]]"
            ]
          },
          "metadata": {
            "tags": []
          },
          "execution_count": 9
        }
      ]
    },
    {
      "cell_type": "code",
      "metadata": {
        "id": "U1lOpqOMtXTq",
        "colab_type": "code",
        "colab": {
          "base_uri": "https://localhost:8080/",
          "height": 68
        },
        "outputId": "9f911e5f-1cb7-4fc0-9f4f-ae50d0da4b84"
      },
      "source": [
        "add_block(float(input(\"Enter trax Value\\n\")))\n",
        "blockchain"
      ],
      "execution_count": 10,
      "outputs": [
        {
          "output_type": "stream",
          "text": [
            "Enter trax Value\n",
            "23\n"
          ],
          "name": "stdout"
        },
        {
          "output_type": "execute_result",
          "data": {
            "text/plain": [
              "[[6], [[6], 7], [[[6], 7], 23.0]]"
            ]
          },
          "metadata": {
            "tags": []
          },
          "execution_count": 10
        }
      ]
    },
    {
      "cell_type": "code",
      "metadata": {
        "id": "rev5Ku8Ttt6u",
        "colab_type": "code",
        "colab": {}
      },
      "source": [
        "def get_trax_value_from_user():\n",
        "    return float(input(\"Enter trax value\"))\n",
        "\n",
        "def get_last_block():\n",
        "    if len(blockchain) == 0:\n",
        "        print('Empty List')\n",
        "    else:\n",
        "        return blockchain[-1]\n",
        "\n",
        "blockchain = []\n",
        "def add_block(trax):\n",
        "    if len(blockchain) == 0:\n",
        "        blockchain.append([trax])\n",
        "    else:\n",
        "        blockchain.append([get_last_block(),trax])\n",
        "\n",
        "def print_blockchain(blockchain):\n",
        "    for index,block in enumerate(blockchain,1):\n",
        "      print(index,block)"
      ],
      "execution_count": 0,
      "outputs": []
    },
    {
      "cell_type": "code",
      "metadata": {
        "id": "2GbRA85Zua6q",
        "colab_type": "code",
        "colab": {
          "base_uri": "https://localhost:8080/",
          "height": 136
        },
        "outputId": "3ff9a8d6-2cc8-494b-f3cd-6147b16891ea"
      },
      "source": [
        "for i in range(int(input(\"How many values you wanna enter?\"))):\n",
        "    add_block(get_trax_value_from_user())\n",
        "print_blockchain(blockchain)"
      ],
      "execution_count": 12,
      "outputs": [
        {
          "output_type": "stream",
          "text": [
            "How many values you wanna enter?3\n",
            "Enter trax value12\n",
            "Enter trax value34\n",
            "Enter trax value80\n",
            "1 [12.0]\n",
            "2 [[12.0], 34.0]\n",
            "3 [[[12.0], 34.0], 80.0]\n"
          ],
          "name": "stdout"
        }
      ]
    },
    {
      "cell_type": "markdown",
      "metadata": {
        "id": "eM2xTaIQwPzq",
        "colab_type": "text"
      },
      "source": [
        "**Blockchain Validation**\n"
      ]
    },
    {
      "cell_type": "code",
      "metadata": {
        "id": "HshFTXQvwMvQ",
        "colab_type": "code",
        "colab": {
          "base_uri": "https://localhost:8080/",
          "height": 34
        },
        "outputId": "bb2efb25-e318-421b-8d53-85ccb35663c3"
      },
      "source": [
        "def is_valid_blockchain(blockchain):\n",
        "    # print(blockchain)\n",
        "    if len(blockchain) == 0:\n",
        "        return\n",
        "    for i in range(len(blockchain)):\n",
        "        if i == 0:\n",
        "            continue\n",
        "        else:\n",
        "            if not blockchain[i][0] == blockchain[i - 1]:\n",
        "                return False\n",
        "    return True\n",
        "print(is_valid_blockchain(blockchain))"
      ],
      "execution_count": 13,
      "outputs": [
        {
          "output_type": "stream",
          "text": [
            "True\n"
          ],
          "name": "stdout"
        }
      ]
    }
  ]
}