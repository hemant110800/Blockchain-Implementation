{
  "nbformat": 4,
  "nbformat_minor": 0,
  "metadata": {
    "colab": {
      "name": "Blockchain Implementation Using Python Dictionary",
      "provenance": [],
      "collapsed_sections": [],
      "authorship_tag": "ABX9TyPJmhyKIXsu2/fM+euGT2D7",
      "include_colab_link": true
    },
    "kernelspec": {
      "name": "python3",
      "display_name": "Python 3"
    }
  },
  "cells": [
    {
      "cell_type": "markdown",
      "metadata": {
        "id": "view-in-github",
        "colab_type": "text"
      },
      "source": [
        "<a href=\"https://colab.research.google.com/github/hemant110800/Blockchain-Implementation/blob/master/Blockchain_Implementation_Using_Python_Dictionary.ipynb\" target=\"_parent\"><img src=\"https://colab.research.google.com/assets/colab-badge.svg\" alt=\"Open In Colab\"/></a>"
      ]
    },
    {
      "cell_type": "code",
      "metadata": {
        "id": "SiTVaEwBUYfI",
        "colab_type": "code",
        "colab": {}
      },
      "source": [
        "owner = 'Hemant Bhati'\n",
        "blockchain = []\n",
        "def add_block(sender = owner, reciever = None, transaction_amount = 0.01):\n",
        "    transaction = {\n",
        "        'Sender': sender,\n",
        "        'Reciever': reciever,\n",
        "        'Amount': transaction_amount\n",
        "    }\n",
        "    if len(blockchain) == 0:\n",
        "        blockchain.append([transaction])\n",
        "    else:\n",
        "        blockchain.append([blockchain[-1], transaction])\n",
        "\n",
        "def get_value_from_user():\n",
        "    reciever = input(\"Enter Reciever's Name\")\n",
        "    tr = float(input(\"Enter trax value\"))\n",
        "    add_block(owner, reciever, tr)"
      ],
      "execution_count": 0,
      "outputs": []
    },
    {
      "cell_type": "code",
      "metadata": {
        "id": "xWIFBVnWWZYo",
        "colab_type": "code",
        "colab": {}
      },
      "source": [
        "add_block(owner, 'Prakash Bhati', 1000)"
      ],
      "execution_count": 0,
      "outputs": []
    },
    {
      "cell_type": "code",
      "metadata": {
        "id": "LJHL2ErEXi7k",
        "colab_type": "code",
        "colab": {
          "base_uri": "https://localhost:8080/",
          "height": 34
        },
        "outputId": "eecafeb9-4d54-450a-f7bf-d2b688bd0616"
      },
      "source": [
        "blockchain"
      ],
      "execution_count": 3,
      "outputs": [
        {
          "output_type": "execute_result",
          "data": {
            "text/plain": [
              "[[{'Amount': 1000, 'Reciever': 'Prakash Bhati', 'Sender': 'Hemant Bhati'}]]"
            ]
          },
          "metadata": {
            "tags": []
          },
          "execution_count": 3
        }
      ]
    },
    {
      "cell_type": "code",
      "metadata": {
        "id": "hlx-MR_Kc27C",
        "colab_type": "code",
        "colab": {
          "base_uri": "https://localhost:8080/",
          "height": 51
        },
        "outputId": "d02abf13-8840-4f03-d134-6936a907ae8e"
      },
      "source": [
        "get_value_from_user()"
      ],
      "execution_count": 4,
      "outputs": [
        {
          "output_type": "stream",
          "text": [
            "Enter Reciever's NameKanha Gupta\n",
            "Enter trax value78.42\n"
          ],
          "name": "stdout"
        }
      ]
    },
    {
      "cell_type": "code",
      "metadata": {
        "id": "7ijmG1Zgd-N0",
        "colab_type": "code",
        "colab": {
          "base_uri": "https://localhost:8080/",
          "height": 68
        },
        "outputId": "8ee35c04-178d-4802-efe2-ad66acb63314"
      },
      "source": [
        "blockchain"
      ],
      "execution_count": 5,
      "outputs": [
        {
          "output_type": "execute_result",
          "data": {
            "text/plain": [
              "[[{'Amount': 1000, 'Reciever': 'Prakash Bhati', 'Sender': 'Hemant Bhati'}],\n",
              " [[{'Amount': 1000, 'Reciever': 'Prakash Bhati', 'Sender': 'Hemant Bhati'}],\n",
              "  {'Amount': 78.42, 'Reciever': 'Kanha Gupta', 'Sender': 'Hemant Bhati'}]]"
            ]
          },
          "metadata": {
            "tags": []
          },
          "execution_count": 5
        }
      ]
    },
    {
      "cell_type": "code",
      "metadata": {
        "id": "HgvXcKfJd_sj",
        "colab_type": "code",
        "colab": {
          "base_uri": "https://localhost:8080/",
          "height": 51
        },
        "outputId": "4868aa80-d985-4d7f-b787-424e872c107b"
      },
      "source": [
        "for index, block in enumerate(blockchain, 1):\n",
        "    print(index, block)"
      ],
      "execution_count": 6,
      "outputs": [
        {
          "output_type": "stream",
          "text": [
            "1 [{'Sender': 'Hemant Bhati', 'Reciever': 'Prakash Bhati', 'Amount': 1000}]\n",
            "2 [[{'Sender': 'Hemant Bhati', 'Reciever': 'Prakash Bhati', 'Amount': 1000}], {'Sender': 'Hemant Bhati', 'Reciever': 'Kanha Gupta', 'Amount': 78.42}]\n"
          ],
          "name": "stdout"
        }
      ]
    }
  ]
}